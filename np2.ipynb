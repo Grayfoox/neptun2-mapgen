{
 "cells": [
  {
   "cell_type": "code",
   "execution_count": 127,
   "metadata": {},
   "outputs": [],
   "source": [
    "#import vseho mozneho\n",
    "import numpy as np\n",
    "import pandas as pd\n",
    "import requests\n",
    "import ipycanvas as ipc\n",
    "from math import pi\n",
    "from ipywidgets import interact, interactive, fixed, interact_manual\n",
    "import ipywidgets as widgets\n",
    "from IPython.core.display import display, HTML"
   ]
  },
  {
   "cell_type": "code",
   "execution_count": 128,
   "metadata": {},
   "outputs": [
    {
     "data": {
      "text/html": [
       "<style>.container { width:100% !important; }</style>"
      ],
      "text/plain": [
       "<IPython.core.display.HTML object>"
      ]
     },
     "metadata": {},
     "output_type": "display_data"
    }
   ],
   "source": [
    "#ahhhh yessss\n",
    "display(HTML(\"<style>.container { width:100% !important; }</style>\"))"
   ]
  },
  {
   "cell_type": "code",
   "execution_count": 56,
   "metadata": {},
   "outputs": [],
   "source": [
    "# -1 je neobsazeno\n",
    "# daji se pouzit jakekoliv HTML barvy\n",
    "player_color={\n",
    "    -1:'white',\n",
    "    0:'red',\n",
    "    1:'blue',\n",
    "    2:'green',\n",
    "    3:'yellow',\n",
    "    4:'orange',\n",
    "    5:'magenta',\n",
    "    6:'olive',\n",
    "    }"
   ]
  },
  {
   "cell_type": "code",
   "execution_count": 57,
   "metadata": {},
   "outputs": [],
   "source": [
    "#ziskame data ze hry\n",
    "# format /game/<game_number>[/(stars|players|fleets|full|basic)]\n",
    "game_number = '4905328060399616'\n",
    "r = requests.get(url='http://nptriton.cqproject.net/game/'+game_number+'/stars')\n",
    "data = r.json()"
   ]
  },
  {
   "cell_type": "code",
   "execution_count": 241,
   "metadata": {},
   "outputs": [
    {
     "data": {
      "text/html": [
       "<div>\n",
       "<style scoped>\n",
       "    .dataframe tbody tr th:only-of-type {\n",
       "        vertical-align: middle;\n",
       "    }\n",
       "\n",
       "    .dataframe tbody tr th {\n",
       "        vertical-align: top;\n",
       "    }\n",
       "\n",
       "    .dataframe thead th {\n",
       "        text-align: right;\n",
       "    }\n",
       "</style>\n",
       "<table border=\"1\" class=\"dataframe\">\n",
       "  <thead>\n",
       "    <tr style=\"text-align: right;\">\n",
       "      <th></th>\n",
       "      <th>uid</th>\n",
       "      <th>n</th>\n",
       "      <th>puid</th>\n",
       "      <th>v</th>\n",
       "      <th>y</th>\n",
       "      <th>x</th>\n",
       "    </tr>\n",
       "  </thead>\n",
       "  <tbody>\n",
       "    <tr>\n",
       "      <th>0</th>\n",
       "      <td>1</td>\n",
       "      <td>Navi</td>\n",
       "      <td>2</td>\n",
       "      <td>0</td>\n",
       "      <td>1.7521</td>\n",
       "      <td>-1.4714</td>\n",
       "    </tr>\n",
       "    <tr>\n",
       "      <th>1</th>\n",
       "      <td>2</td>\n",
       "      <td>AA0</td>\n",
       "      <td>5</td>\n",
       "      <td>0</td>\n",
       "      <td>3.0511</td>\n",
       "      <td>-2.2214</td>\n",
       "    </tr>\n",
       "    <tr>\n",
       "      <th>2</th>\n",
       "      <td>3</td>\n",
       "      <td>Arkab</td>\n",
       "      <td>1</td>\n",
       "      <td>0</td>\n",
       "      <td>3.0511</td>\n",
       "      <td>-0.7214</td>\n",
       "    </tr>\n",
       "    <tr>\n",
       "      <th>3</th>\n",
       "      <td>4</td>\n",
       "      <td>Adhara</td>\n",
       "      <td>3</td>\n",
       "      <td>0</td>\n",
       "      <td>0.4530</td>\n",
       "      <td>-0.7214</td>\n",
       "    </tr>\n",
       "    <tr>\n",
       "      <th>4</th>\n",
       "      <td>5</td>\n",
       "      <td>Achernar</td>\n",
       "      <td>0</td>\n",
       "      <td>0</td>\n",
       "      <td>1.7521</td>\n",
       "      <td>0.0286</td>\n",
       "    </tr>\n",
       "    <tr>\n",
       "      <th>...</th>\n",
       "      <td>...</td>\n",
       "      <td>...</td>\n",
       "      <td>...</td>\n",
       "      <td>...</td>\n",
       "      <td>...</td>\n",
       "      <td>...</td>\n",
       "    </tr>\n",
       "    <tr>\n",
       "      <th>115</th>\n",
       "      <td>140</td>\n",
       "      <td>Bam</td>\n",
       "      <td>0</td>\n",
       "      <td>0</td>\n",
       "      <td>1.5611</td>\n",
       "      <td>0.0838</td>\n",
       "    </tr>\n",
       "    <tr>\n",
       "      <th>116</th>\n",
       "      <td>141</td>\n",
       "      <td>Toliman</td>\n",
       "      <td>0</td>\n",
       "      <td>0</td>\n",
       "      <td>1.3307</td>\n",
       "      <td>0.9291</td>\n",
       "    </tr>\n",
       "    <tr>\n",
       "      <th>117</th>\n",
       "      <td>142</td>\n",
       "      <td>Rye</td>\n",
       "      <td>5</td>\n",
       "      <td>0</td>\n",
       "      <td>2.4321</td>\n",
       "      <td>-0.9222</td>\n",
       "    </tr>\n",
       "    <tr>\n",
       "      <th>118</th>\n",
       "      <td>143</td>\n",
       "      <td>Megrez</td>\n",
       "      <td>-1</td>\n",
       "      <td>0</td>\n",
       "      <td>1.5005</td>\n",
       "      <td>1.8644</td>\n",
       "    </tr>\n",
       "    <tr>\n",
       "      <th>119</th>\n",
       "      <td>144</td>\n",
       "      <td>Foe</td>\n",
       "      <td>0</td>\n",
       "      <td>0</td>\n",
       "      <td>1.1051</td>\n",
       "      <td>1.1217</td>\n",
       "    </tr>\n",
       "  </tbody>\n",
       "</table>\n",
       "<p>120 rows × 6 columns</p>\n",
       "</div>"
      ],
      "text/plain": [
       "     uid         n  puid  v       y       x\n",
       "0      1      Navi     2  0  1.7521 -1.4714\n",
       "1      2       AA0     5  0  3.0511 -2.2214\n",
       "2      3     Arkab     1  0  3.0511 -0.7214\n",
       "3      4    Adhara     3  0  0.4530 -0.7214\n",
       "4      5  Achernar     0  0  1.7521  0.0286\n",
       "..   ...       ...   ... ..     ...     ...\n",
       "115  140       Bam     0  0  1.5611  0.0838\n",
       "116  141   Toliman     0  0  1.3307  0.9291\n",
       "117  142       Rye     5  0  2.4321 -0.9222\n",
       "118  143    Megrez    -1  0  1.5005  1.8644\n",
       "119  144       Foe     0  0  1.1051  1.1217\n",
       "\n",
       "[120 rows x 6 columns]"
      ]
     },
     "execution_count": 241,
     "metadata": {},
     "output_type": "execute_result"
    }
   ],
   "source": [
    "#nastavovatka\n",
    "star_distance = 150\n",
    "x_offset = 600\n",
    "y_offset = 200\n",
    "\n",
    "#data magic\n",
    "# udelame si data frame na pandas statistiky a trochu poupravime pro statistiky\n",
    "npdata = np.array(list(data.values()))\n",
    "df = pd.DataFrame(columns=list(data['1'].keys()))\n",
    "\n",
    "for i,j in enumerate(npdata):\n",
    "    df.loc[i]=(list(j.values()))\n",
    "    \n",
    "df[['y','x']] = df[['y','x']].astype(float)\n",
    "df['puid'] = df['puid'].astype(int)\n",
    "\n",
    "#tohle je pouzitelny pro pandas\n",
    "df"
   ]
  },
  {
   "cell_type": "code",
   "execution_count": 280,
   "metadata": {},
   "outputs": [],
   "source": [
    "#Funkce, aby byly soupatka hned u vykreslovani, staci spustit jednou\n",
    "\n",
    "#TODO vstupni informace a ne tahat z global space\n",
    "def draw_galaxy(canvas,to_from):\n",
    "    #nastavime kreslito na cerno a udelame cerne pozadi\n",
    "    canvas.fill_style = 'black'\n",
    "    canvas.fill_rect(0, 0, max_size_x, max_size_y)\n",
    "  \n",
    "    #nastavime pismo\n",
    "    canvas.font = '11px center'\n",
    "    \n",
    "    #projedeme vsechny sektory a nakreslime je\n",
    "    for i in to_from:    \n",
    "        canvas.fill_style = player_color[i[1]]\n",
    "        canvas.stroke_style= player_color[i[1]]\n",
    "        canvas.shadow_color= player_color[i[1]]\n",
    "        canvas.fill_text(i[0], i[3]+text_offset_x.value, i[2]+text_offset_y.value)\n",
    "        canvas.fill_arc(i[3], i[2], circle_size.value, 0,pi*1.5)\n",
    "        canvas.fill_style = 'white'\n",
    "        canvas.fill_arc(i[3], i[2], circle_size.value/2, 0,pi*1.5)\n",
    "        \n",
    "    return canvas\n",
    "\n",
    "def recalculate_sliders(to_draw):  \n",
    "    to_draw = (df.drop(['uid', 'v'], axis=1))\n",
    "    to_draw = to_draw.to_numpy()\n",
    "    to_draw[:,2] *= slider_zoom.value\n",
    "    to_draw[:,3] *= slider_zoom.value\n",
    "    to_draw[:,3] += slider_offset_x.value\n",
    "    to_draw[:,2] += slider_offset_y.value\n",
    "    return to_draw"
   ]
  },
  {
   "cell_type": "code",
   "execution_count": 268,
   "metadata": {},
   "outputs": [
    {
     "data": {
      "application/vnd.jupyter.widget-view+json": {
       "model_id": "7606824b94fa4d75943f466535a599ae",
       "version_major": 2,
       "version_minor": 0
      },
      "text/plain": [
       "Box(children=(IntSlider(value=160, description='zoom:', max=500, min=1), IntSlider(value=300, description='off…"
      ]
     },
     "metadata": {},
     "output_type": "display_data"
    }
   ],
   "source": [
    "#soupatka na zoom apod. staci spustit jednou a pak soupat\n",
    "slider_zoom = widgets.IntSlider(description='zoom:',min=1, max=500, value=160)\n",
    "slider_offset_x = widgets.IntSlider(description='offset x:',min=-100, max=1000, value=300, step=3)\n",
    "slider_offset_y = widgets.IntSlider(description='offset y:',min=-100, max=1000, value=100, step=3)\n",
    "\n",
    "text_offset_x = widgets.IntSlider(description='text offset x:',min=-50, max=50,value=-7, step=1)\n",
    "text_offset_y = widgets.IntSlider(description='text offset y:',min=-50, max=50,value=10, step=1)\n",
    "\n",
    "circle_size = widgets.IntSlider(description='circle size:',min=2, max=45, step=1)\n",
    "\n",
    "items_layout = widgets.Layout( width='auto')     # override the default width of the button to 'auto' to let the button grow\n",
    "\n",
    "box_layout = widgets.Layout(display='flex',\n",
    "                    flex_flow='row',\n",
    "                    align_items='stretch',\n",
    "                    border='solid',\n",
    "                    width='100%')\n",
    "\n",
    "items = [slider_zoom,slider_offset_x,slider_offset_y,text_offset_x,text_offset_y,circle_size]\n",
    "box = widgets.Box(children=items, layout=box_layout)\n",
    "box"
   ]
  },
  {
   "cell_type": "code",
   "execution_count": 288,
   "metadata": {
    "scrolled": false
   },
   "outputs": [
    {
     "data": {
      "application/vnd.jupyter.widget-view+json": {
       "model_id": "12eebf83792d4408ac979183271c22e5",
       "version_major": 2,
       "version_minor": 0
      },
      "text/plain": [
       "Canvas(height=1000, width=1000)"
      ]
     },
     "metadata": {},
     "output_type": "display_data"
    }
   ],
   "source": [
    "#toto kresli, poustet vicekrat za sebou\n",
    "max_size_x = 1000\n",
    "max_size_y = 1000\n",
    "\n",
    "canvas = ipc.Canvas(width=max_size_x, height=max_size_y)\n",
    "\n",
    "canvas.fill_style = \"white\"\n",
    "canvas.fill_arc(1,1, circle_size.value,0,pi*2)\n",
    "\n",
    "to_draw = recalculate_sliders(to_draw)\n",
    "draw_galaxy(canvas,to_draw)\n",
    "\n",
    "#obrazek se da rozkliknout a zobrazit jako obrazek naplno"
   ]
  },
  {
   "cell_type": "code",
   "execution_count": null,
   "metadata": {},
   "outputs": [],
   "source": []
  }
 ],
 "metadata": {
  "kernelspec": {
   "display_name": "Python 3",
   "language": "python",
   "name": "python3"
  },
  "language_info": {
   "codemirror_mode": {
    "name": "ipython",
    "version": 3
   },
   "file_extension": ".py",
   "mimetype": "text/x-python",
   "name": "python",
   "nbconvert_exporter": "python",
   "pygments_lexer": "ipython3",
   "version": "3.7.3"
  }
 },
 "nbformat": 4,
 "nbformat_minor": 2
}
